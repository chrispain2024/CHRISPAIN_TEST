{
  "nbformat": 4,
  "nbformat_minor": 0,
  "metadata": {
    "colab": {
      "provenance": [],
      "authorship_tag": "ABX9TyMzRXkpbBpTEupDxCHyToRL",
      "include_colab_link": true
    },
    "kernelspec": {
      "name": "python3",
      "display_name": "Python 3"
    },
    "language_info": {
      "name": "python"
    }
  },
  "cells": [
    {
      "cell_type": "markdown",
      "metadata": {
        "id": "view-in-github",
        "colab_type": "text"
      },
      "source": [
        "<a href=\"https://colab.research.google.com/github/chrispain2024/CHRISPAIN_TEST/blob/main/Chrispain.ipynb\" target=\"_parent\"><img src=\"https://colab.research.google.com/assets/colab-badge.svg\" alt=\"Open In Colab\"/></a>"
      ]
    },
    {
      "cell_type": "code",
      "execution_count": 4,
      "metadata": {
        "colab": {
          "base_uri": "https://localhost:8080/"
        },
        "id": "PGC-s303UmIc",
        "outputId": "f1c0f740-a8bb-4c68-aeae-e557c74b6dbe"
      },
      "outputs": [
        {
          "name": "stdout",
          "output_type": "stream",
          "text": [
            " Donnez un nombre : 101\n"
          ]
        }
      ],
      "source": [
        "#checkpoint de chrispain\n",
        "x = input(\" Donnez un nombre : \")\n",
        "x = int(x)\n",
        "if x == 37:\n",
        "    print(\"Felicitation, vous avez deviner le nombre correctement!\")\n",
        "elif x < 37:\n",
        "    print(\"Votre reponse est trop basse. Reessayez\")\n",
        "elif x > 37 and x <=100:\n",
        "    print(\"Votre reponse est trop elevée. Reessayez\")"
      ]
    }
  ]
}